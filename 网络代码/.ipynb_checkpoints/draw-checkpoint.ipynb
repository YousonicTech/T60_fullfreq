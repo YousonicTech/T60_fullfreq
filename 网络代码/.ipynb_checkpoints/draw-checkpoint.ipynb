{
 "cells": [
  {
   "cell_type": "code",
   "execution_count": 26,
   "id": "da949ec1",
   "metadata": {},
   "outputs": [],
   "source": [
    "import torch\n",
    "path = \"/data1/zdm/t60_datasets/train/creswell-crags/creswell-crags_1_s_mainlevel_r_mainlevel_0_2_creswell-crags_上海话女声_1_TIMIT_a003_150_160_10dB-0.pt\"\n",
    "x = torch.load(path)"
   ]
  },
  {
   "cell_type": "code",
   "execution_count": 27,
   "id": "541875ca",
   "metadata": {},
   "outputs": [],
   "source": [
    "for key, values in x.items():\n",
    "    x = x[key]\n",
    "    break"
   ]
  },
  {
   "cell_type": "code",
   "execution_count": 28,
   "id": "ff094dca",
   "metadata": {},
   "outputs": [
    {
     "data": {
      "text/plain": [
       "tensor([[ 1.4113, -4.5696, -4.5012,  ..., -3.4969, -2.0607,  6.7521],\n",
       "        [ 1.4179, -4.7957, -4.3077,  ..., -3.5329, -2.1362,  6.7524],\n",
       "        [ 1.4120, -4.6040, -4.4431,  ..., -3.4032, -2.0936,  6.7535],\n",
       "        ...,\n",
       "        [ 6.6692,  7.2024,  6.2461,  ...,  7.0660,  6.9513,  6.8030],\n",
       "        [ 7.3392,  6.6882,  6.4328,  ...,  6.1440,  5.6819,  6.0370],\n",
       "        [ 7.2070,  6.0127,  6.1633,  ...,  4.8713,  5.6155,  6.4378]],\n",
       "       dtype=torch.float64)"
      ]
     },
     "execution_count": 28,
     "metadata": {},
     "output_type": "execute_result"
    }
   ],
   "source": [
    "x[0]['image'][0].abs().log()"
   ]
  },
  {
   "cell_type": "code",
   "execution_count": 9,
   "id": "98b26496",
   "metadata": {},
   "outputs": [],
   "source": [
    "import matplotlib.pyplot as plt"
   ]
  },
  {
   "cell_type": "code",
   "execution_count": 29,
   "id": "0ef67c75",
   "metadata": {},
   "outputs": [
    {
     "name": "stdout",
     "output_type": "stream",
     "text": [
      "torch.Size([129, 45])\n",
      "torch.Size([257, 45])\n",
      "torch.Size([513, 45])\n",
      "torch.Size([1025, 45])\n"
     ]
    }
   ],
   "source": [
    "for i in range(4):\n",
    "    print(x[0]['image'][i].shape)"
   ]
  },
  {
   "cell_type": "code",
   "execution_count": 14,
   "id": "ad2b7236",
   "metadata": {},
   "outputs": [
    {
     "data": {
      "image/png": "[encoded data removed]",
      "text/plain": [
       "<Figure size 432x288 with 1 Axes>"
      ]
     },
     "metadata": {
      "needs_background": "light"
     },
     "output_type": "display_data"
    }
   ],
   "source": [
    "plt.imshow(x[0]['image'][3].abs().log().numpy(), origin='lower')\n",
    "plt.show()"
   ]
  },
  {
   "cell_type": "markdown",
   "id": "7a51f965",
   "metadata": {},
   "source": [
    "# PipeLine New"
   ]
  },
  {
   "cell_type": "code",
   "execution_count": null,
   "id": "5497eae3",
   "metadata": {},
   "outputs": [],
   "source": [
    "import torch\n",
    "import torch.nn as nn\n",
    "import torchaudio\n",
    "from torchaudio.transforms import Spectrogram, InverseSpectrogram, Resample, AmplitudeToDB, TimeMasking\n",
    "\n",
    "class PipeLineNew(nn.Module):\n",
    "    \"\"\"新的数据集，500, 1k, 2k, 4k分别占一个维度,直接存torch.complex\"\"\"\n",
    "    def __init__(self):\n",
    "        super().__init__()\n",
    "        self.n_fft = 512\n",
    "        self.n_hop = 256\n",
    "        self.freq = 16000\n",
    "        self.spec = Spectrogram(n_fft=self.n_fft, hop_length=self.n_hop, power=None)\n",
    "        self.inverseSpec = InverseSpectrogram(n_fft=self.n_fft, hop_length=self.n_hop)\n",
    "\n",
    "    def forward(self, chunk, fs):\n",
    "        # 送进来的应该是一个4s的片段,类型为numpy array,先滤波,再downsample,最后画语谱图\n",
    "        chunk = torch.from_numpy(chunk).squeeze()\n",
    "        if fs != self.freq:\n",
    "            chunk = F.resample(torch.from_numpy(chunk), orig_freq=fs, new_freq=self.freq)\n",
    "        chunk = chunk.float()\n",
    "        save_tensor = []\n",
    "        for freq, fft in zip([500, 1000, 2000, 4000], [256, 512, 1024, 2048]):\n",
    "            # 1. 滤波\n",
    "            temp_chunk = bandpass(chunk, int(freq / 1.414), int(freq * 1.414), fs)\n",
    "            # 2. downsample\n",
    "            temp_chunk = F.resample(torch.from_numpy(temp_chunk), orig_freq=fs, new_freq=int(freq * 1.414 * 2))\n",
    "            # 3. 语谱图\n",
    "            spec = Spectrogram(n_fft=fft, hop_length=fft//2, power=None)\n",
    "            temp_chunk = spec(temp_chunk).squeeze()\n",
    "            save_tensor.append(temp_chunk)\n",
    "            \n",
    "        return save_tensor"
   ]
  },
  {
   "cell_type": "code",
   "execution_count": null,
   "id": "ff134b25",
   "metadata": {},
   "outputs": [],
   "source": [
    "pp = PipeLin"
   ]
  },
  {
   "cell_type": "code",
   "execution_count": null,
   "id": "79925b4a",
   "metadata": {},
   "outputs": [],
   "source": []
  }
 ],
 "metadata": {
  "kernelspec": {
   "display_name": "pypy",
   "language": "python",
   "name": "pypy"
  },
  "language_info": {
   "codemirror_mode": {
    "name": "ipython",
    "version": 3
   },
   "file_extension": ".py",
   "mimetype": "text/x-python",
   "name": "python",
   "nbconvert_exporter": "python",
   "pygments_lexer": "ipython3",
   "version": "3.8.13"
  }
 },
 "nbformat": 4,
 "nbformat_minor": 5
}
